{
 "cells": [
  {
   "cell_type": "markdown",
   "id": "dbd6caaa",
   "metadata": {},
   "source": [
    "# BPE GPT2 "
   ]
  },
  {
   "cell_type": "code",
   "execution_count": 2,
   "id": "be7139fa",
   "metadata": {},
   "outputs": [
    {
     "name": "stdout",
     "output_type": "stream",
     "text": [
      "Requirement already satisfied: tiktoken in /home/vvt/anaconda3/lib/python3.10/site-packages (0.9.0)\r\n",
      "Requirement already satisfied: regex>=2022.1.18 in /home/vvt/anaconda3/lib/python3.10/site-packages (from tiktoken) (2022.7.9)\r\n",
      "Requirement already satisfied: requests>=2.26.0 in /home/vvt/anaconda3/lib/python3.10/site-packages (from tiktoken) (2.28.1)\r\n",
      "Requirement already satisfied: certifi>=2017.4.17 in /home/vvt/anaconda3/lib/python3.10/site-packages (from requests>=2.26.0->tiktoken) (2022.12.7)\r\n",
      "Requirement already satisfied: urllib3<1.27,>=1.21.1 in /home/vvt/anaconda3/lib/python3.10/site-packages (from requests>=2.26.0->tiktoken) (1.26.14)\r\n",
      "Requirement already satisfied: charset-normalizer<3,>=2 in /home/vvt/anaconda3/lib/python3.10/site-packages (from requests>=2.26.0->tiktoken) (2.0.4)\r\n",
      "Requirement already satisfied: idna<4,>=2.5 in /home/vvt/anaconda3/lib/python3.10/site-packages (from requests>=2.26.0->tiktoken) (3.4)\r\n"
     ]
    }
   ],
   "source": [
    "!pip install tiktoken"
   ]
  },
  {
   "cell_type": "code",
   "execution_count": 1,
   "id": "6d192ffd",
   "metadata": {},
   "outputs": [
    {
     "name": "stdout",
     "output_type": "stream",
     "text": [
      "Tiktoken version 0.9.0\n"
     ]
    }
   ],
   "source": [
    "import tiktoken\n",
    "import importlib\n",
    "\n",
    "print(\"Tiktoken version\", importlib.metadata.version(\"tiktoken\"))"
   ]
  },
  {
   "cell_type": "code",
   "execution_count": 2,
   "id": "f0eb34a8",
   "metadata": {},
   "outputs": [],
   "source": [
    "tokenizer = tiktoken.get_encoding(\"gpt2\")"
   ]
  },
  {
   "cell_type": "code",
   "execution_count": 3,
   "id": "91fa917a",
   "metadata": {},
   "outputs": [
    {
     "name": "stdout",
     "output_type": "stream",
     "text": [
      "{'<|endoftext|>': 50256}\n"
     ]
    }
   ],
   "source": [
    "print(tokenizer._special_tokens)\n"
   ]
  },
  {
   "cell_type": "code",
   "execution_count": 4,
   "id": "2c8d8e1c",
   "metadata": {},
   "outputs": [
    {
     "name": "stdout",
     "output_type": "stream",
     "text": [
      "[15496, 11, 466, 345, 588, 8887, 30, 220, 50256, 554, 262, 4252, 18250, 8812, 2114, 1659, 617, 34680, 27271, 13]\n"
     ]
    }
   ],
   "source": [
    "text = (\n",
    "    \"Hello, do you like tea? <|endoftext|> In the sunlit terraces\"\n",
    "     \"of someunknownPlace.\"\n",
    ")\n",
    "\n",
    "integers = tokenizer.encode(text, allowed_special={\"<|endoftext|>\"})\n",
    "print(integers)"
   ]
  },
  {
   "cell_type": "code",
   "execution_count": 5,
   "id": "287bc8d1",
   "metadata": {},
   "outputs": [
    {
     "name": "stdout",
     "output_type": "stream",
     "text": [
      "{'<|endoftext|>': 50256}\n"
     ]
    }
   ],
   "source": [
    "print(tokenizer._special_tokens)\n"
   ]
  },
  {
   "cell_type": "code",
   "execution_count": 6,
   "id": "2a13eff7",
   "metadata": {},
   "outputs": [
    {
     "data": {
      "text/plain": [
       "'Hello, do you like tea? <|endoftext|> In the sunlit terracesof someunknownPlace.'"
      ]
     },
     "execution_count": 6,
     "metadata": {},
     "output_type": "execute_result"
    }
   ],
   "source": [
    "string = tokenizer.decode(integers)\n",
    "string"
   ]
  },
  {
   "cell_type": "markdown",
   "id": "06cc39ca",
   "metadata": {},
   "source": [
    "# Input_Target pairs\n"
   ]
  },
  {
   "cell_type": "code",
   "execution_count": 7,
   "id": "cb2f93f4",
   "metadata": {},
   "outputs": [
    {
     "data": {
      "text/plain": [
       "5145"
      ]
     },
     "execution_count": 7,
     "metadata": {},
     "output_type": "execute_result"
    }
   ],
   "source": [
    "with open(\"the-verdict.txt\",\"r\") as f:\n",
    "    text = f.read()\n",
    "    \n",
    "encodeText = tokenizer.encode(text)\n",
    "\n",
    "len(encodeText)"
   ]
  },
  {
   "cell_type": "code",
   "execution_count": 8,
   "id": "807f6ea9",
   "metadata": {},
   "outputs": [
    {
     "name": "stdout",
     "output_type": "stream",
     "text": [
      "[40, 367, 2885, 1464, 1807, 3619, 402, 271, 10899, 2138]\n",
      "    [367, 2885, 1464, 1807, 3619, 402, 271, 10899, 2138, 257]\n"
     ]
    }
   ],
   "source": [
    "context_size = 10\n",
    "\n",
    "input = encodeText[:context_size]\n",
    "target = encodeText[1 : context_size + 1]\n",
    "print(input)\n",
    "print(\"   \",target)"
   ]
  },
  {
   "cell_type": "code",
   "execution_count": 9,
   "id": "27805320",
   "metadata": {},
   "outputs": [
    {
     "name": "stdout",
     "output_type": "stream",
     "text": [
      "[40] ----> [367]\n",
      "I ---->  H\n",
      "[40, 367] ----> [2885]\n",
      "I H ----> AD\n",
      "[40, 367, 2885] ----> [1464]\n",
      "I HAD ---->  always\n",
      "[40, 367, 2885, 1464] ----> [1807]\n",
      "I HAD always ---->  thought\n",
      "[40, 367, 2885, 1464, 1807] ----> [3619]\n",
      "I HAD always thought ---->  Jack\n",
      "[40, 367, 2885, 1464, 1807, 3619] ----> [402]\n",
      "I HAD always thought Jack ---->  G\n",
      "[40, 367, 2885, 1464, 1807, 3619, 402] ----> [271]\n",
      "I HAD always thought Jack G ----> is\n",
      "[40, 367, 2885, 1464, 1807, 3619, 402, 271] ----> [10899]\n",
      "I HAD always thought Jack Gis ----> burn\n",
      "[40, 367, 2885, 1464, 1807, 3619, 402, 271, 10899] ----> [2138]\n",
      "I HAD always thought Jack Gisburn ---->  rather\n"
     ]
    }
   ],
   "source": [
    "for i in range(1, context_size):\n",
    "    input = encodeText[:i]\n",
    "    output = encodeText[i:i+1]\n",
    "    \n",
    "    print(input , \"---->\", output)\n",
    "    print(tokenizer.decode(input), \"---->\", tokenizer.decode(output))"
   ]
  },
  {
   "cell_type": "code",
   "execution_count": 15,
   "id": "7e5fb17b",
   "metadata": {},
   "outputs": [],
   "source": [
    "from torch.utils.data import Dataset, DataLoader\n",
    "import torch\n",
    "\n",
    "class GPTDatasetV1(Dataset):\n",
    "    def __init__(self, text, max_length, stride):\n",
    "        self.input_ids = []\n",
    "        self.target_ids = []\n",
    "        \n",
    "        # Tokenize the entire text \n",
    "        token_ids = tokenizer.encode(text)\n",
    "        \n",
    "        # Using a sliding window to chunk the book into overlapping sequences of max_length\n",
    "        for i in range(0, len(token_ids) - max_length, stride):\n",
    "            input_chunk = token_ids[i: i + max_length]\n",
    "            target_chunck = token_ids[i+1: i + max_length + 1] \n",
    "            self.input_ids.append(torch.tensor(input_chunk))\n",
    "            self.target_ids.append(torch.tensor(target_chunck))\n",
    "            \n",
    "    def __len__(self):\n",
    "        return len(self.input_ids)\n",
    "                    \n",
    "    def __getitem__(self, idx):\n",
    "        return self.input_ids[idx], self.target_ids[idx]"
   ]
  },
  {
   "cell_type": "code",
   "execution_count": 12,
   "id": "5ae80490",
   "metadata": {},
   "outputs": [],
   "source": [
    "def create_dataloader(text, max_length=256, stride=128,\n",
    "                     shuffle=True, drop_last=True, num_workers=0, batch_size =4):\n",
    "    \n",
    "    # Initialize the tokenizer\n",
    "    tokenizer = tiktoken.get_encoding('gpt2')\n",
    "    \n",
    "    dataset = GPTDatasetV1(text, max_length, stride)\n",
    "    \n",
    "    dataloader = DataLoader(\n",
    "        dataset = dataset,\n",
    "        batch_size = batch_size,\n",
    "        shuffle = shuffle,\n",
    "        num_workers = num_workers\n",
    "    )\n",
    "    \n",
    "    return dataloader"
   ]
  },
  {
   "cell_type": "code",
   "execution_count": 16,
   "id": "ba000802",
   "metadata": {},
   "outputs": [
    {
     "name": "stdout",
     "output_type": "stream",
     "text": [
      "Inputs:\n",
      " tensor([[   40,   367,  2885,  1464],\n",
      "        [ 1807,  3619,   402,   271],\n",
      "        [10899,  2138,   257,  7026],\n",
      "        [15632,   438,  2016,   257],\n",
      "        [  922,  5891,  1576,   438],\n",
      "        [  568,   340,   373,   645],\n",
      "        [ 1049,  5975,   284,   502],\n",
      "        [  284,  3285,   326,    11]])\n",
      "\n",
      "Targets:\n",
      " tensor([[  367,  2885,  1464,  1807],\n",
      "        [ 3619,   402,   271, 10899],\n",
      "        [ 2138,   257,  7026, 15632],\n",
      "        [  438,  2016,   257,   922],\n",
      "        [ 5891,  1576,   438,   568],\n",
      "        [  340,   373,   645,  1049],\n",
      "        [ 5975,   284,   502,   284],\n",
      "        [ 3285,   326,    11,   287]])\n"
     ]
    }
   ],
   "source": [
    "dataloader = create_dataloader(text, batch_size=8, max_length=4, stride=4, shuffle=False)\n",
    "\n",
    "data_iter = iter(dataloader)\n",
    "inputs, targets = next(data_iter)\n",
    "print(\"Inputs:\\n\", inputs)\n",
    "print(\"\\nTargets:\\n\", targets)"
   ]
  }
 ],
 "metadata": {
  "kernelspec": {
   "display_name": "Python 3 (ipykernel)",
   "language": "python",
   "name": "python3"
  },
  "language_info": {
   "codemirror_mode": {
    "name": "ipython",
    "version": 3
   },
   "file_extension": ".py",
   "mimetype": "text/x-python",
   "name": "python",
   "nbconvert_exporter": "python",
   "pygments_lexer": "ipython3",
   "version": "3.10.9"
  }
 },
 "nbformat": 4,
 "nbformat_minor": 5
}
