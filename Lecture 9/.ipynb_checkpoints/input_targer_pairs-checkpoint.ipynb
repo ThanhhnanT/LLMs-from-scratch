{
 "cells": [
  {
   "cell_type": "code",
   "execution_count": 2,
   "id": "131cf9ef",
   "metadata": {},
   "outputs": [
    {
     "name": "stdout",
     "output_type": "stream",
     "text": [
      "Requirement already satisfied: tiktoken in /home/vvt/anaconda3/lib/python3.10/site-packages (0.9.0)\r\n",
      "Requirement already satisfied: regex>=2022.1.18 in /home/vvt/anaconda3/lib/python3.10/site-packages (from tiktoken) (2022.7.9)\r\n",
      "Requirement already satisfied: requests>=2.26.0 in /home/vvt/anaconda3/lib/python3.10/site-packages (from tiktoken) (2.28.1)\r\n",
      "Requirement already satisfied: certifi>=2017.4.17 in /home/vvt/anaconda3/lib/python3.10/site-packages (from requests>=2.26.0->tiktoken) (2022.12.7)\r\n",
      "Requirement already satisfied: urllib3<1.27,>=1.21.1 in /home/vvt/anaconda3/lib/python3.10/site-packages (from requests>=2.26.0->tiktoken) (1.26.14)\r\n",
      "Requirement already satisfied: charset-normalizer<3,>=2 in /home/vvt/anaconda3/lib/python3.10/site-packages (from requests>=2.26.0->tiktoken) (2.0.4)\r\n",
      "Requirement already satisfied: idna<4,>=2.5 in /home/vvt/anaconda3/lib/python3.10/site-packages (from requests>=2.26.0->tiktoken) (3.4)\r\n"
     ]
    }
   ],
   "source": [
    "!pip install tiktoken"
   ]
  },
  {
   "cell_type": "code",
   "execution_count": 3,
   "id": "912637e4",
   "metadata": {},
   "outputs": [
    {
     "ename": "AttributeError",
     "evalue": "module 'importlib.metadata' has no attribute 'tiktoken'",
     "output_type": "error",
     "traceback": [
      "\u001b[0;31m---------------------------------------------------------------------------\u001b[0m",
      "\u001b[0;31mAttributeError\u001b[0m                            Traceback (most recent call last)",
      "Cell \u001b[0;32mIn[3], line 4\u001b[0m\n\u001b[1;32m      1\u001b[0m \u001b[38;5;28;01mimport\u001b[39;00m\u001b[38;5;250m \u001b[39m\u001b[38;5;21;01mtiktoken\u001b[39;00m\n\u001b[1;32m      2\u001b[0m \u001b[38;5;28;01mimport\u001b[39;00m\u001b[38;5;250m \u001b[39m\u001b[38;5;21;01mimportlib\u001b[39;00m\n\u001b[0;32m----> 4\u001b[0m \u001b[38;5;28mprint\u001b[39m(\u001b[38;5;124m\"\u001b[39m\u001b[38;5;124mTiktoken version\u001b[39m\u001b[38;5;124m\"\u001b[39m, \u001b[43mimportlib\u001b[49m\u001b[38;5;241;43m.\u001b[39;49m\u001b[43mmetadata\u001b[49m\u001b[38;5;241;43m.\u001b[39;49m\u001b[43mtiktoken\u001b[49m)\n",
      "\u001b[0;31mAttributeError\u001b[0m: module 'importlib.metadata' has no attribute 'tiktoken'"
     ]
    }
   ],
   "source": [
    "import tiktoken\n",
    "import importlib\n",
    "\n",
    "print(\"Tiktoken version\", importlib.metadata.tiktoken)"
   ]
  }
 ],
 "metadata": {
  "kernelspec": {
   "display_name": "Python 3 (ipykernel)",
   "language": "python",
   "name": "python3"
  },
  "language_info": {
   "codemirror_mode": {
    "name": "ipython",
    "version": 3
   },
   "file_extension": ".py",
   "mimetype": "text/x-python",
   "name": "python",
   "nbconvert_exporter": "python",
   "pygments_lexer": "ipython3",
   "version": "3.10.9"
  }
 },
 "nbformat": 4,
 "nbformat_minor": 5
}
