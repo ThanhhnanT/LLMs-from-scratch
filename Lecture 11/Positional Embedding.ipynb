{
 "cells": [
  {
   "cell_type": "code",
   "execution_count": 3,
   "id": "28d749d0",
   "metadata": {},
   "outputs": [],
   "source": [
    "import torch\n",
    "from torch.utils.data import Dataset, DataLoader\n",
    "\n",
    "vocab_size= 50257\n",
    "output_dim = 256\n",
    "\n",
    "token_emb_layer = torch.nn.Embedding(vocab_size, output_dim)"
   ]
  },
  {
   "cell_type": "code",
   "execution_count": 2,
   "id": "a327ead4",
   "metadata": {},
   "outputs": [
    {
     "data": {
      "text/plain": [
       "[17250, 2506]"
      ]
     },
     "execution_count": 2,
     "metadata": {},
     "output_type": "execute_result"
    }
   ],
   "source": [
    "import tiktoken\n",
    "\n",
    "tokenizer = tiktoken.get_encoding(\"gpt2\")\n",
    "\n",
    "encode = tokenizer.encode(\"Hi everyone\")\n",
    "encode\n"
   ]
  },
  {
   "cell_type": "code",
   "execution_count": 52,
   "id": "8ac4749e",
   "metadata": {},
   "outputs": [],
   "source": [
    "class GPTDatasetV1(Dataset):\n",
    "    def __init__ (self,text, max_length, stride):\n",
    "        self.input_ids =[]\n",
    "        self.target_ids = []\n",
    "        \n",
    "        encodeText = tokenizer.encode(text)\n",
    "\n",
    "        for i in range(0, len(encodeText) - max_length - 1, stride):\n",
    "            chunk = encodeText[i: i + max_length + 1]\n",
    "            input_chunks = chunk[:-1]\n",
    "            target_chunks = chunk[1:]\n",
    "\n",
    "            self.input_ids.append(torch.tensor(input_chunks))\n",
    "            self.target_ids.append(torch.tensor(target_chunks))\n",
    "            \n",
    "    def __len__(self):\n",
    "        return len(self.input_ids)\n",
    "    \n",
    "    def __getitem__(self, idx):\n",
    "        return self.input_ids[idx], self.target_ids[idx]\n",
    "    "
   ]
  },
  {
   "cell_type": "code",
   "execution_count": 53,
   "id": "585daae8",
   "metadata": {},
   "outputs": [],
   "source": [
    "def createData(text, batch_size = 8, max_length = 4, stride = 4, shuffle=True):\n",
    "    data = GPTDatasetV1(text, max_length, stride)\n",
    "    \n",
    "    preprocess = DataLoader(\n",
    "        dataset=data,\n",
    "        batch_size= batch_size,\n",
    "        num_workers=4,\n",
    "        shuffle = shuffle,\n",
    "        drop_last=True\n",
    "    )\n",
    "    \n",
    "    return preprocess\n"
   ]
  },
  {
   "cell_type": "code",
   "execution_count": 48,
   "id": "b75b8150",
   "metadata": {},
   "outputs": [
    {
     "data": {
      "text/plain": [
       "'I HAD always thought Jack Gisburn rather a cheap genius--though a good fellow enough--so it was no great surprise to me to hear that, in the height of his glory, he had dropped his painting, married a rich widow, and established himself in a villa on the Riviera. (Though I rather thought it would ha'"
      ]
     },
     "execution_count": 48,
     "metadata": {},
     "output_type": "execute_result"
    }
   ],
   "source": [
    "with open(\"the-verdict.txt\") as f:\n",
    "    text = f.read()\n",
    "    \n",
    "text[:300]\n"
   ]
  },
  {
   "cell_type": "code",
   "execution_count": 54,
   "id": "2bd823ec",
   "metadata": {},
   "outputs": [
    {
     "name": "stdout",
     "output_type": "stream",
     "text": [
      "tensor([[ 6000,  1517,   373,   284],\n",
      "        [  373,   884,   281,  1167],\n",
      "        [ 1110,    13,   198,   198],\n",
      "        [ 1182,   287,   314,  2936],\n",
      "        [  896,     6,   886,   314],\n",
      "        [  921,  9670, 28022,    11],\n",
      "        [  273,  1807,   673,   750],\n",
      "        [ 5812,    11,  8759,  2763]])\n",
      "tensor([[ 1517,   373,   284,   766],\n",
      "        [  884,   281,  1167,  2588],\n",
      "        [   13,   198,   198,    40],\n",
      "        [  287,   314,  2936,   355],\n",
      "        [    6,   886,   314,  5220],\n",
      "        [ 9670, 28022,    11,   810],\n",
      "        [ 1807,   673,   750,    13],\n",
      "        [   11,  8759,  2763,  1043]])\n"
     ]
    }
   ],
   "source": [
    "data_iter = iter(createData(text))\n",
    "\n",
    "inputs, target = next(data_iter)\n",
    "\n",
    "print(inputs)\n",
    "print(target)\n"
   ]
  },
  {
   "cell_type": "code",
   "execution_count": 55,
   "id": "5f325cbe",
   "metadata": {},
   "outputs": [
    {
     "name": "stdout",
     "output_type": "stream",
     "text": [
      "torch.Size([8, 4, 256])\n"
     ]
    }
   ],
   "source": [
    "tokens_emb = token_emb_layer(inputs)\n",
    "print(tokens_emb.shape)"
   ]
  },
  {
   "cell_type": "code",
   "execution_count": 64,
   "id": "75a991f7",
   "metadata": {},
   "outputs": [
    {
     "name": "stdout",
     "output_type": "stream",
     "text": [
      "tensor([0, 1, 2, 3])\n"
     ]
    }
   ],
   "source": [
    "context_length =4\n",
    "pos_emb_layer = torch.nn.Embedding(context_length, output_dim)\n",
    "\n",
    "pos_emb = pos_emb_layer(torch.arange(4))\n",
    "# print(pos_emb)\n",
    "print(torch.arange(4))"
   ]
  },
  {
   "cell_type": "code",
   "execution_count": 58,
   "id": "2d748f10",
   "metadata": {},
   "outputs": [
    {
     "name": "stdout",
     "output_type": "stream",
     "text": [
      "torch.Size([8, 4, 256])\n"
     ]
    }
   ],
   "source": [
    "input_emb = tokens_emb + pos_emb\n",
    "print(input_emb.shape)"
   ]
  }
 ],
 "metadata": {
  "kernelspec": {
   "display_name": "Python 3 (ipykernel)",
   "language": "python",
   "name": "python3"
  },
  "language_info": {
   "codemirror_mode": {
    "name": "ipython",
    "version": 3
   },
   "file_extension": ".py",
   "mimetype": "text/x-python",
   "name": "python",
   "nbconvert_exporter": "python",
   "pygments_lexer": "ipython3",
   "version": "3.10.9"
  }
 },
 "nbformat": 4,
 "nbformat_minor": 5
}
