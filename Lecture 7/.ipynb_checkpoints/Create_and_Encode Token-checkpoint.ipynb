{
 "cells": [
  {
   "cell_type": "code",
   "execution_count": 7,
   "id": "067bd9b3",
   "metadata": {},
   "outputs": [
    {
     "name": "stdout",
     "output_type": "stream",
     "text": [
      "Total word 20479\n",
      "I HAD always thought Jack Gisburn rather a cheap genius--though a good fellow enough--so it was no great surprise to me to hear that, in the height of his glory, he had dropped his painting, married a rich widow, and established himself in a villa on the Riviera. (Though I rather thought it would have been Rome or Florence.)\n",
      "\n",
      "\"The height of his glory\"--that was what the women called it. I can hear Mrs. Gideon Thwing--his last Chicago sitter--deploring his unaccountable abdication. \"Of course it's going to send the value of my picture 'way up; but I don't think of that, Mr. Rickham--the loss to Arrt is all I think of.\" The word, on Mrs. Thwing's lips, multiplied its _rs_ as though they were reflected in an endless vista of mirrors. And it was not only the Mrs. Thwings who mourned. Had not the exquisite Hermia Croft, at the last Grafton Gallery show, stopped me before Gisburn's \"Moon-dancers\" to say, with tears in her eyes: \"We shall not look upon its like again\"?\n",
      "\n",
      "Well!--even through th\n"
     ]
    }
   ],
   "source": [
    "with open('the-verdict.txt', 'r') as f:\n",
    "    raw_text = f.read()\n",
    "    \n",
    "print('Total word', len(raw_text))\n",
    "print(raw_text[:1000])"
   ]
  },
  {
   "cell_type": "code",
   "execution_count": 17,
   "id": "558dab30",
   "metadata": {
    "scrolled": true
   },
   "outputs": [
    {
     "name": "stdout",
     "output_type": "stream",
     "text": [
      "Total token 3848\n",
      "['I', 'HAD', 'always', 'thought', 'Jack', 'Gisburn', 'rather', 'a', 'cheap', 'genius', 'though', 'a', 'good', 'fellow', 'enough', 'so', 'it', 'was', 'no', 'great', 'surprise', 'to', 'me', 'to', 'hear', 'that', 'in', 'the', 'height', 'of', 'his', 'glory', 'he', 'had', 'dropped', 'his', 'painting', 'married', 'a', 'rich', 'widow', 'and', 'established', 'himself', 'in', 'a', 'villa', 'on', 'the', 'Riviera.', 'Though', 'I', 'rather', 'thought', 'it', 'would', 'have', 'been', 'Rome', 'or', 'Florence.', 'The', 'height', 'of', 'his', 'glory', 'that', 'was', 'what', 'the', 'women', 'called', 'it.', 'I', 'can', 'hear', 'Mrs.', 'Gideon', 'Thwing', 'his', 'last', 'Chicago', 'sitter', 'deploring', 'his', 'unaccountable', 'abdication.', 'Of', 'course', 'it', 's', 'going', 'to', 'send', 'the', 'value', 'of', 'my', 'picture', 'way', 'up', 'but', 'I', 'don', 't', 'think', 'of', 'that', 'Mr.', 'Rickham', 'the', 'loss', 'to', 'Arrt', 'is', 'all', 'I', 'think', 'of.', 'The', 'word', 'on', 'Mrs.', 'Thwing', 's', 'lips', 'multiplied', 'its', 'rs', 'as', 'though', 'they', 'were', 'reflected', 'in', 'an', 'endless', 'vista', 'of', 'mirrors.', 'And', 'it', 'was', 'not', 'only', 'the', 'Mrs.', 'Thwings', 'who', 'mourned.', 'Had', 'not', 'the', 'exquisite', 'Hermia', 'Croft', 'at', 'the', 'last', 'Grafton', 'Gallery', 'show', 'stopped', 'me', 'before', 'Gisburn', 's', 'Moon', 'dancers', 'to', 'say', 'with', 'tears', 'in', 'her', 'eyes', 'We', 'shall', 'not', 'look', 'upon', 'its', 'like', 'again', 'Well!', 'even', 'through', 'the', 'prism', 'of', 'Hermia', 's', 'tears', 'I', 'felt', 'able', 'to', 'face', 'the', 'fact', 'with', 'equanimity.', 'Poor', 'Jack', 'Gisburn!', 'The', 'women', 'had', 'made', 'him', 'it', 'was', 'fitting', 'that', 'they', 'should', 'mourn', 'him.', 'Among', 'his', 'own', 'sex', 'fewer', 'regrets', 'were', 'heard', 'and', 'in', 'his', 'own', 'trade', 'hardly', 'a', 'murmur.', 'Professional', 'jealousy', 'Perhaps.', 'If', 'it', 'were', 'the', 'honour', 'of', 'the', 'craft', 'was', 'vindicated', 'by', 'little', 'Claude', 'Nutley', 'who', 'in', 'all', 'good', 'faith', 'brought', 'out', 'in', 'the', 'Burlington', 'a', 'very', 'handsome', 'obituary', 'on', 'Jack', 'one', 'of', 'those', 'showy', 'articles', 'stocked', 'with', 'random', 'technicalities', 'that', 'I', 'have', 'heard', 'I', 'won', 't', 'say', 'by', 'whom', 'compared', 'to', 'Gisburn', 's', 'painting.', 'And', 'so', 'his', 'resolve', 'being', 'apparently', 'irrevocable', 'the', 'discussion']\n"
     ]
    }
   ],
   "source": [
    "import re\n",
    "\n",
    "preprocess = re.split(r'[,:;?_\"\\'()\\[\\]—–\\-\\s]+', raw_text)\n",
    "# print(preprocess[:300])\n",
    "preprocess = [item for item in preprocess if item.strip()]\n",
    "print('Total token', len(preprocess))\n",
    "print(preprocess[:300])"
   ]
  },
  {
   "cell_type": "markdown",
   "id": "45a4cc0d",
   "metadata": {},
   "source": []
  }
 ],
 "metadata": {
  "kernelspec": {
   "display_name": "Python 3 (ipykernel)",
   "language": "python",
   "name": "python3"
  },
  "language_info": {
   "codemirror_mode": {
    "name": "ipython",
    "version": 3
   },
   "file_extension": ".py",
   "mimetype": "text/x-python",
   "name": "python",
   "nbconvert_exporter": "python",
   "pygments_lexer": "ipython3",
   "version": "3.10.9"
  }
 },
 "nbformat": 4,
 "nbformat_minor": 5
}
